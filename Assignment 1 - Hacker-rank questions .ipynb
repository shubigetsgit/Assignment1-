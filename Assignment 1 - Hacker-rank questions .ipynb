{
 "cells": [
  {
   "cell_type": "code",
   "execution_count": 1,
   "id": "c297fd20",
   "metadata": {},
   "outputs": [],
   "source": [
    "#https://www.hackerrank.com/challenges/finding-the-percentage/problem\n"
   ]
  },
  {
   "cell_type": "code",
   "execution_count": 2,
   "id": "3ea8c889",
   "metadata": {},
   "outputs": [
    {
     "name": "stdout",
     "output_type": "stream",
     "text": [
      "3\n",
      "Krishna 67 68 69\n",
      "Arjun 70 98 63\n",
      "Malika 52 56 60\n",
      "Malika\n",
      "56.0\n",
      "56.00\n"
     ]
    }
   ],
   "source": [
    "n = int(input())\n",
    "student_marks = {}\n",
    "for _ in range(n):\n",
    "    name, *line = input().split()\n",
    "    scores = list(map(float, line))\n",
    "    student_marks[name] = scores\n",
    "query_name = input()\n",
    "output = list(student_marks[query_name])    \n",
    "per = sum(output)/len(output)\n",
    "print(per)\n",
    "print(\"%.2f\" % per);\n",
    "\n"
   ]
  },
  {
   "cell_type": "code",
   "execution_count": 3,
   "id": "c75a876c",
   "metadata": {
    "scrolled": true
   },
   "outputs": [],
   "source": [
    "#https://www.hackerrank.com/challenges/python-string-split-and-join/problem"
   ]
  },
  {
   "cell_type": "code",
   "execution_count": 4,
   "id": "bac3b74d",
   "metadata": {},
   "outputs": [
    {
     "name": "stdout",
     "output_type": "stream",
     "text": [
      "this is a string  \n",
      "this-is-a-string--\n"
     ]
    }
   ],
   "source": [
    "def split_and_join(line):\n",
    "    # write your code here\n",
    "    line=line.split(\" \")\n",
    "    line=\"-\".join(line)\n",
    "    return line\n",
    "if __name__ == '__main__':\n",
    "    line = input()\n",
    "    result = split_and_join(line)\n",
    "    print(result)\n"
   ]
  },
  {
   "cell_type": "code",
   "execution_count": null,
   "id": "a520b269",
   "metadata": {},
   "outputs": [],
   "source": [
    "\n"
   ]
  },
  {
   "cell_type": "code",
   "execution_count": 5,
   "id": "56ce97f3",
   "metadata": {},
   "outputs": [],
   "source": [
    "#https://www.hackerrank.com/challenges/swap-case/problem\n"
   ]
  },
  {
   "cell_type": "code",
   "execution_count": 6,
   "id": "991b56b7",
   "metadata": {},
   "outputs": [
    {
     "name": "stdout",
     "output_type": "stream",
     "text": [
      "HackerRank.com presents \"Pythonist 2\".\n",
      "hACKERrANK.COM PRESENTS \"pYTHONIST 2\".\n"
     ]
    }
   ],
   "source": [
    "def swap_case(s):\n",
    "    string = \"\"\n",
    "    for i in m:\n",
    "        if i .isupper():\n",
    "            i = i.lower()\n",
    "        else:\n",
    "            i = i.upper()\n",
    "        string = string+i\n",
    "    return(string)\n",
    "\n",
    "\n",
    "\n",
    "if __name__ == '__main__':\n",
    "    m = input()\n",
    "    result = swap_case(m)\n",
    "    print(result)\n"
   ]
  },
  {
   "cell_type": "code",
   "execution_count": null,
   "id": "2d8b28d6",
   "metadata": {},
   "outputs": [],
   "source": []
  },
  {
   "cell_type": "code",
   "execution_count": null,
   "id": "4bd7ccbd",
   "metadata": {},
   "outputs": [],
   "source": []
  },
  {
   "cell_type": "code",
   "execution_count": null,
   "id": "3a06b635",
   "metadata": {},
   "outputs": [],
   "source": []
  },
  {
   "cell_type": "code",
   "execution_count": null,
   "id": "6d4628c7",
   "metadata": {},
   "outputs": [],
   "source": []
  },
  {
   "cell_type": "code",
   "execution_count": null,
   "id": "b671cf26",
   "metadata": {},
   "outputs": [],
   "source": []
  },
  {
   "cell_type": "code",
   "execution_count": null,
   "id": "a1a8d8f4",
   "metadata": {},
   "outputs": [],
   "source": []
  }
 ],
 "metadata": {
  "kernelspec": {
   "display_name": "Python 3 (ipykernel)",
   "language": "python",
   "name": "python3"
  },
  "language_info": {
   "codemirror_mode": {
    "name": "ipython",
    "version": 3
   },
   "file_extension": ".py",
   "mimetype": "text/x-python",
   "name": "python",
   "nbconvert_exporter": "python",
   "pygments_lexer": "ipython3",
   "version": "3.10.7"
  }
 },
 "nbformat": 4,
 "nbformat_minor": 5
}
